{
 "cells": [
  {
   "cell_type": "markdown",
   "id": "f7305bf5-4368-491e-b5f0-8548473cef5d",
   "metadata": {},
   "source": [
    "### CH1: Getting Started with the Scalable Language"
   ]
  },
  {
   "cell_type": "markdown",
   "id": "948390de-5f6f-4bee-896f-18acac44d5b9",
   "metadata": {},
   "source": [
    "#### Installing Scala\n",
    "```bash\n",
    "docker container run -it \\\n",
    "-d \\\n",
    "-p 10000:8888 \\\n",
    "-e LC_ALL=C.UTF-8 \\\n",
    "-e GRANT_SUDO=yes \\\n",
    "--name jupyter_scala \\\n",
    "-v $(pwd):/home/jovyan/work \\\n",
    "jupyter/base-notebook:latest\n",
    "\n",
    "# as root\n",
    "apt-get update -y\n",
    "apt-get install openjdk-8-jdk \\\n",
    "\n",
    "# as jovyan\n",
    "curl -Lo coursier https://git.io/coursier-cli\n",
    "chmod +x coursier\n",
    "rm -f coursier\n",
    "# https://almond.sh/docs/quick-start-install\n",
    "```"
   ]
  },
  {
   "cell_type": "markdown",
   "id": "577552ff-4c5d-45e7-b03a-633beeb51a7b",
   "metadata": {},
   "source": [
    "#### Using the Scala REPL"
   ]
  },
  {
   "cell_type": "code",
   "execution_count": 1,
   "id": "6a3e61ae-64df-4532-bf33-b0cb4dd8597b",
   "metadata": {},
   "outputs": [
    {
     "name": "stdout",
     "output_type": "stream",
     "text": [
      "Hello, World!\n"
     ]
    }
   ],
   "source": [
    "println(\"Hello, World!\")"
   ]
  },
  {
   "cell_type": "code",
   "execution_count": 2,
   "id": "73622720-6b65-44d8-9b56-acc749c600b6",
   "metadata": {},
   "outputs": [
    {
     "data": {
      "text/plain": [
       "\u001b[36mres2\u001b[39m: \u001b[32mInt\u001b[39m = \u001b[32m35\u001b[39m"
      ]
     },
     "execution_count": 2,
     "metadata": {},
     "output_type": "execute_result"
    }
   ],
   "source": [
    "5 * 7"
   ]
  },
  {
   "cell_type": "code",
   "execution_count": 4,
   "id": "4a70c29d-61d7-4681-a8f0-da18b0e145bb",
   "metadata": {},
   "outputs": [
    {
     "data": {
      "text/plain": [
       "\u001b[36mres4\u001b[39m: \u001b[32mInt\u001b[39m = \u001b[32m70\u001b[39m"
      ]
     },
     "execution_count": 4,
     "metadata": {},
     "output_type": "execute_result"
    }
   ],
   "source": [
    "2 * res2"
   ]
  },
  {
   "cell_type": "markdown",
   "id": "366b7e33-c9c6-4d0a-a6e9-d50c8a8ec444",
   "metadata": {},
   "source": [
    "#### Exercise"
   ]
  },
  {
   "cell_type": "markdown",
   "id": "7783cabd-adaa-4ab6-bc21-349301874c71",
   "metadata": {},
   "source": [
    "* convert the temperature value of 22.5 Centigrade to Fahrenheit"
   ]
  },
  {
   "cell_type": "code",
   "execution_count": 8,
   "id": "4d8590f1-71dc-4917-9167-90759c6dd6eb",
   "metadata": {},
   "outputs": [
    {
     "data": {
      "text/plain": [
       "\u001b[36mres8\u001b[39m: \u001b[32mDouble\u001b[39m = \u001b[32m72.5\u001b[39m"
      ]
     },
     "execution_count": 8,
     "metadata": {},
     "output_type": "execute_result"
    }
   ],
   "source": [
    "(22.5 * (1.8)) + 32"
   ]
  },
  {
   "cell_type": "markdown",
   "id": "b7a9a7b9-2c41-4e1a-a10a-b19970103834",
   "metadata": {},
   "source": [
    "* Take the result from exercise 2, halve it, and convert it back to Centigrade"
   ]
  },
  {
   "cell_type": "code",
   "execution_count": 12,
   "id": "3374162f-5eae-4cd8-ac3a-97e016bd6624",
   "metadata": {},
   "outputs": [
    {
     "data": {
      "text/plain": [
       "\u001b[36mres12\u001b[39m: \u001b[32mDouble\u001b[39m = \u001b[32m22.275000000000002\u001b[39m"
      ]
     },
     "execution_count": 12,
     "metadata": {},
     "output_type": "execute_result"
    }
   ],
   "source": [
    "(res8 - 32) * (0.55)"
   ]
  },
  {
   "cell_type": "markdown",
   "id": "9e67f48a-16f6-4c61-af59-293f08e73b8d",
   "metadata": {},
   "source": [
    "* The REPL can load and interpret Scala code from an external file with the :load <file> command. Create a new file named Hello.scala and add a command that will print a greeting, then execute it from the REPL"
   ]
  },
  {
   "cell_type": "markdown",
   "id": "a5912128-d83b-4fa5-84d5-448e4fb80538",
   "metadata": {},
   "source": [
    "```scala\n",
    ":load /home/jovyan/Hello.scala\n",
    "```"
   ]
  },
  {
   "cell_type": "markdown",
   "id": "2021d796-c82a-4052-ae8f-777c5bab122b",
   "metadata": {},
   "source": [
    "* Another way to load external Scala code is to paste it into the REPL in “raw” mode, where the code is compiled as if it were actually in a proper source file. To do this, type :paste -raw, hit Return, and then paste the contents of your source file from exercise 4. After exiting “paste” mode you should see the greeting."
   ]
  },
  {
   "cell_type": "markdown",
   "id": "8297a7c8-bf75-49b3-83b5-26c8093a7339",
   "metadata": {},
   "source": [
    "```scala\n",
    ":paste\n",
    "-- `:paste -raw` produces compile error\n",
    "\n",
    "println(\"greeting\")\n",
    "```"
   ]
  }
 ],
 "metadata": {
  "kernelspec": {
   "display_name": "Scala",
   "language": "scala",
   "name": "scala"
  },
  "language_info": {
   "codemirror_mode": "text/x-scala",
   "file_extension": ".sc",
   "mimetype": "text/x-scala",
   "name": "scala",
   "nbconvert_exporter": "script",
   "version": "2.13.11"
  }
 },
 "nbformat": 4,
 "nbformat_minor": 5
}
