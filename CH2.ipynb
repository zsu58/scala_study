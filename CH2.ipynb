{
 "cells": [
  {
   "cell_type": "markdown",
   "id": "f7305bf5-4368-491e-b5f0-8548473cef5d",
   "metadata": {},
   "source": [
    "### CH2: Working with Data: Literals, Values, Variables, and Types"
   ]
  },
  {
   "cell_type": "markdown",
   "id": "53c6f3b9-69ea-4be6-bfb5-c3a6e25d7fd7",
   "metadata": {},
   "source": [
    "* `literal`: data that appears directly in the source code\n",
    "    * like the number 5, the character A, and the text “Hello, World.”\n",
    "* `value`: an immutable, typed storage unit. \n",
    "    * A value can be assigned data when it is defined, but can never be reassigned.\n",
    "* `variable`: a mutable, typed storage unit. \n",
    "    * A variable can be assigned data when it is defined and can also be reassigned data at any time.\n",
    "* `type`: he kind of data you are working with, a definition or classification of data.\n",
    "    * All data in Scala corresponds to a specific type, and all Scala types are defined as classes with methods that operate on the data."
   ]
  },
  {
   "cell_type": "markdown",
   "id": "ecc33749-0885-4925-bf57-9aed9ef411e5",
   "metadata": {},
   "source": [
    "#### "
   ]
  }
 ],
 "metadata": {
  "kernelspec": {
   "display_name": "Scala",
   "language": "scala",
   "name": "scala"
  },
  "language_info": {
   "codemirror_mode": "text/x-scala",
   "file_extension": ".sc",
   "mimetype": "text/x-scala",
   "name": "scala",
   "nbconvert_exporter": "script",
   "version": "2.13.11"
  }
 },
 "nbformat": 4,
 "nbformat_minor": 5
}
